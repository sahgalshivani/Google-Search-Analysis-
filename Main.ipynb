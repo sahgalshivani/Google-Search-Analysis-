{
 "cells": [
  {
   "cell_type": "code",
   "execution_count": 1,
   "id": "a2466b61",
   "metadata": {},
   "outputs": [],
   "source": [
    "import pandas as pd\n",
    "from pytrends.request import TrendReq\n",
    "import matplotlib.pyplot as plt\n",
    "import time\n",
    "\n",
    "Trending_topics = TrendReq(hl='en-US', tz=360)"
   ]
  },
  {
   "cell_type": "code",
   "execution_count": 2,
   "id": "44022fe4",
   "metadata": {},
   "outputs": [],
   "source": [
    "kw_list=[\"Cloud Computing\"]\n",
    "Trending_topics.build_payload(kw_list,cat=0, timeframe='today 12-m')\n",
    "time.sleep(5)"
   ]
  },
  {
   "cell_type": "code",
   "execution_count": 5,
   "id": "883670b1",
   "metadata": {},
   "outputs": [
    {
     "name": "stdout",
     "output_type": "stream",
     "text": [
      "            Cloud Computing  isPartial\n",
      "date                                  \n",
      "2025-06-15              100      False\n",
      "2025-06-08               94      False\n",
      "2024-12-01               94      False\n",
      "2025-04-20               93      False\n",
      "2024-11-17               93      False\n",
      "2024-09-22               90      False\n",
      "2025-05-04               90      False\n",
      "2025-04-27               89      False\n",
      "2025-03-02               89      False\n",
      "2025-06-22               89      False\n"
     ]
    },
    {
     "name": "stderr",
     "output_type": "stream",
     "text": [
      "c:\\Users\\PRASHANT\\anaconda3\\Lib\\site-packages\\pytrends\\request.py:260: FutureWarning: Downcasting object dtype arrays on .fillna, .ffill, .bfill is deprecated and will change in a future version. Call result.infer_objects(copy=False) instead. To opt-in to the future behavior, set `pd.set_option('future.no_silent_downcasting', True)`\n",
      "  df = df.fillna(False)\n"
     ]
    }
   ],
   "source": [
    "data = Trending_topics.interest_over_time()\n",
    "data = data.sort_values(by=\"Cloud Computing\", ascending = False)\n",
    "data = data.head(10)\n",
    "print(data)"
   ]
  },
  {
   "cell_type": "code",
   "execution_count": 6,
   "id": "d5dd1b85",
   "metadata": {},
   "outputs": [
    {
     "name": "stdout",
     "output_type": "stream",
     "text": [
      "            Cloud Computing  isPartial\n",
      "date                                  \n",
      "2024-01-29              100      False\n",
      "2024-01-03               98      False\n",
      "2024-01-10               88      False\n",
      "2024-01-30               84      False\n",
      "2024-01-23               83      False\n",
      "2024-01-27               81      False\n",
      "2024-01-24               80      False\n",
      "2024-01-09               80      False\n",
      "2024-01-08               79      False\n",
      "2024-01-31               77      False\n"
     ]
    }
   ],
   "source": [
    "kw_list = [\"Cloud Computing\"]\n",
    "Trending_topics.build_payload(kw_list, cat=0, timeframe='2024-01-01 2024-02-01', geo='', gprop='')\n",
    "data = Trending_topics.interest_over_time()\n",
    "data = data.sort_values(by=\"Cloud Computing\", ascending = False)\n",
    "data = data.head(10)\n",
    "print(data)"
   ]
  },
  {
   "cell_type": "code",
   "execution_count": 7,
   "id": "14a89096",
   "metadata": {},
   "outputs": [
    {
     "name": "stdout",
     "output_type": "stream",
     "text": [
      "             Cloud Computing\n",
      "geoName                     \n",
      "St. Helena               100\n",
      "Nepal                     96\n",
      "Ethiopia                  95\n",
      "India                     71\n",
      "Cameroon                  62\n",
      "Sri Lanka                 48\n",
      "Ghana                     45\n",
      "Nigeria                   43\n",
      "Pakistan                  38\n",
      "South Korea               37\n"
     ]
    }
   ],
   "source": [
    "data = Trending_topics.interest_by_region()\n",
    "data = data.sort_values(by=\"Cloud Computing\", \n",
    "                        ascending = False)\n",
    "data = data.head(10)\n",
    "print(data)"
   ]
  },
  {
   "cell_type": "code",
   "execution_count": 8,
   "id": "e384c16c",
   "metadata": {},
   "outputs": [
    {
     "data": {
      "image/png": "[encoded data removed]",
      "text/plain": [
       "<Figure size 1000x500 with 1 Axes>"
      ]
     },
     "metadata": {},
     "output_type": "display_data"
    }
   ],
   "source": [
    "data.reset_index().plot(x='geoName', y='Cloud Computing',\n",
    "                        figsize=(10,5), kind=\"bar\")\n",
    "plt.style.use('fivethirtyeight')\n",
    "plt.show()"
   ]
  },
  {
   "cell_type": "code",
   "execution_count": 11,
   "id": "7977f76e",
   "metadata": {},
   "outputs": [],
   "source": [
    "try:\n",
    "    Trending_topics.build_payload(kw_list=['Cloud Computing'])\n",
    "    related_queries = Trending_topics.related_queries()\n",
    "    related_queries.values()\n",
    "except (KeyError, IndexError):\n",
    "    print(\"No related queries found for 'Cloud Computing'\")"
   ]
  },
  {
   "cell_type": "code",
   "execution_count": 12,
   "id": "b497910d",
   "metadata": {},
   "outputs": [
    {
     "data": {
      "text/html": [
       "<div>\n",
       "<style scoped>\n",
       "    .dataframe tbody tr th:only-of-type {\n",
       "        vertical-align: middle;\n",
       "    }\n",
       "\n",
       "    .dataframe tbody tr th {\n",
       "        vertical-align: top;\n",
       "    }\n",
       "\n",
       "    .dataframe thead th {\n",
       "        text-align: right;\n",
       "    }\n",
       "</style>\n",
       "<table border=\"1\" class=\"dataframe\">\n",
       "  <thead>\n",
       "    <tr style=\"text-align: right;\">\n",
       "      <th></th>\n",
       "      <th>title</th>\n",
       "      <th>type</th>\n",
       "    </tr>\n",
       "  </thead>\n",
       "  <tbody>\n",
       "    <tr>\n",
       "      <th>0</th>\n",
       "      <td>Cloud computing</td>\n",
       "      <td>Topic</td>\n",
       "    </tr>\n",
       "    <tr>\n",
       "      <th>1</th>\n",
       "      <td>Cloud computing</td>\n",
       "      <td>Topic</td>\n",
       "    </tr>\n",
       "    <tr>\n",
       "      <th>2</th>\n",
       "      <td>Cloud computing security</td>\n",
       "      <td>Topic</td>\n",
       "    </tr>\n",
       "    <tr>\n",
       "      <th>3</th>\n",
       "      <td>Alibaba Cloud</td>\n",
       "      <td>Computer software company</td>\n",
       "    </tr>\n",
       "    <tr>\n",
       "      <th>4</th>\n",
       "      <td>Private cloud computing infrastructure</td>\n",
       "      <td>Topic</td>\n",
       "    </tr>\n",
       "  </tbody>\n",
       "</table>\n",
       "</div>"
      ],
      "text/plain": [
       "                                    title                       type\n",
       "0                         Cloud computing                      Topic\n",
       "1                         Cloud computing                      Topic\n",
       "2                Cloud computing security                      Topic\n",
       "3                           Alibaba Cloud  Computer software company\n",
       "4  Private cloud computing infrastructure                      Topic"
      ]
     },
     "execution_count": 12,
     "metadata": {},
     "output_type": "execute_result"
    }
   ],
   "source": [
    "keywords = Trending_topics.suggestions(\n",
    "  keyword='Cloud Computing')\n",
    "df = pd.DataFrame(keywords)\n",
    "df.drop(columns= 'mid')"
   ]
  }
 ],
 "metadata": {
  "kernelspec": {
   "display_name": "base",
   "language": "python",
   "name": "python3"
  },
  "language_info": {
   "codemirror_mode": {
    "name": "ipython",
    "version": 3
   },
   "file_extension": ".py",
   "mimetype": "text/x-python",
   "name": "python",
   "nbconvert_exporter": "python",
   "pygments_lexer": "ipython3",
   "version": "3.12.7"
  }
 },
 "nbformat": 4,
 "nbformat_minor": 5
}
